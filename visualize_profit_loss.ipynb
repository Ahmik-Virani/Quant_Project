{
 "cells": [
  {
   "cell_type": "code",
   "execution_count": 1,
   "id": "7110dad6",
   "metadata": {},
   "outputs": [],
   "source": [
    "import pandas as pd\n",
    "import matplotlib.pyplot as plt"
   ]
  },
  {
   "cell_type": "markdown",
   "id": "31d5ad85",
   "metadata": {},
   "source": [
    "# Import Required Libraries\n",
    "Import libraries such as pandas and matplotlib for data manipulation and visualization."
   ]
  },
  {
   "cell_type": "markdown",
   "id": "f555a4c3",
   "metadata": {},
   "source": [
    "# Load and Parse Trade Data\n",
    "Load the CSV file containing trade data and parse it into a pandas DataFrame."
   ]
  },
  {
   "cell_type": "code",
   "execution_count": 2,
   "id": "0a8479e5",
   "metadata": {},
   "outputs": [
    {
     "data": {
      "text/html": [
       "<div>\n",
       "<style scoped>\n",
       "    .dataframe tbody tr th:only-of-type {\n",
       "        vertical-align: middle;\n",
       "    }\n",
       "\n",
       "    .dataframe tbody tr th {\n",
       "        vertical-align: top;\n",
       "    }\n",
       "\n",
       "    .dataframe thead th {\n",
       "        text-align: right;\n",
       "    }\n",
       "</style>\n",
       "<table border=\"1\" class=\"dataframe\">\n",
       "  <thead>\n",
       "    <tr style=\"text-align: right;\">\n",
       "      <th></th>\n",
       "      <th>EntryPrice</th>\n",
       "      <th>ExitPrice</th>\n",
       "      <th>TradeType</th>\n",
       "      <th>PnL</th>\n",
       "      <th>Timestamp</th>\n",
       "    </tr>\n",
       "  </thead>\n",
       "  <tbody>\n",
       "    <tr>\n",
       "      <th>0</th>\n",
       "      <td>39.049818</td>\n",
       "      <td>39.345299</td>\n",
       "      <td>SHORT</td>\n",
       "      <td>-0.295481</td>\n",
       "      <td>0</td>\n",
       "    </tr>\n",
       "    <tr>\n",
       "      <th>1</th>\n",
       "      <td>39.049818</td>\n",
       "      <td>39.345402</td>\n",
       "      <td>SHORT</td>\n",
       "      <td>-0.295584</td>\n",
       "      <td>1</td>\n",
       "    </tr>\n",
       "    <tr>\n",
       "      <th>2</th>\n",
       "      <td>39.049818</td>\n",
       "      <td>39.345402</td>\n",
       "      <td>SHORT</td>\n",
       "      <td>-0.295584</td>\n",
       "      <td>2</td>\n",
       "    </tr>\n",
       "    <tr>\n",
       "      <th>3</th>\n",
       "      <td>39.049818</td>\n",
       "      <td>39.345501</td>\n",
       "      <td>SHORT</td>\n",
       "      <td>-0.295683</td>\n",
       "      <td>3</td>\n",
       "    </tr>\n",
       "    <tr>\n",
       "      <th>4</th>\n",
       "      <td>39.049818</td>\n",
       "      <td>39.345501</td>\n",
       "      <td>SHORT</td>\n",
       "      <td>-0.295683</td>\n",
       "      <td>4</td>\n",
       "    </tr>\n",
       "  </tbody>\n",
       "</table>\n",
       "</div>"
      ],
      "text/plain": [
       "   EntryPrice  ExitPrice TradeType       PnL  Timestamp\n",
       "0   39.049818  39.345299     SHORT -0.295481          0\n",
       "1   39.049818  39.345402     SHORT -0.295584          1\n",
       "2   39.049818  39.345402     SHORT -0.295584          2\n",
       "3   39.049818  39.345501     SHORT -0.295683          3\n",
       "4   39.049818  39.345501     SHORT -0.295683          4"
      ]
     },
     "execution_count": 2,
     "metadata": {},
     "output_type": "execute_result"
    }
   ],
   "source": [
    "# Load the CSV file\n",
    "filename = \"short_1.csv\"\n",
    "data = pd.read_csv(filename, header=None, names=[\"EntryPrice\", \"ExitPrice\", \"TradeType\", \"PnL\"])\n",
    "data[\"Timestamp\"] = range(len(data))  # Add a simulated timestamp column\n",
    "data.head()"
   ]
  },
  {
   "cell_type": "markdown",
   "id": "72f69b5f",
   "metadata": {},
   "source": [
    "# Calculate Cumulative Profit/Loss\n",
    "Compute cumulative profit/loss from the 'PnL' column in the DataFrame."
   ]
  },
  {
   "cell_type": "code",
   "execution_count": 3,
   "id": "4f08f5bb",
   "metadata": {},
   "outputs": [
    {
     "data": {
      "text/html": [
       "<div>\n",
       "<style scoped>\n",
       "    .dataframe tbody tr th:only-of-type {\n",
       "        vertical-align: middle;\n",
       "    }\n",
       "\n",
       "    .dataframe tbody tr th {\n",
       "        vertical-align: top;\n",
       "    }\n",
       "\n",
       "    .dataframe thead th {\n",
       "        text-align: right;\n",
       "    }\n",
       "</style>\n",
       "<table border=\"1\" class=\"dataframe\">\n",
       "  <thead>\n",
       "    <tr style=\"text-align: right;\">\n",
       "      <th></th>\n",
       "      <th>EntryPrice</th>\n",
       "      <th>ExitPrice</th>\n",
       "      <th>TradeType</th>\n",
       "      <th>PnL</th>\n",
       "      <th>Timestamp</th>\n",
       "      <th>CumulativePnL</th>\n",
       "    </tr>\n",
       "  </thead>\n",
       "  <tbody>\n",
       "    <tr>\n",
       "      <th>0</th>\n",
       "      <td>39.049818</td>\n",
       "      <td>39.345299</td>\n",
       "      <td>SHORT</td>\n",
       "      <td>-0.295481</td>\n",
       "      <td>0</td>\n",
       "      <td>-0.295481</td>\n",
       "    </tr>\n",
       "    <tr>\n",
       "      <th>1</th>\n",
       "      <td>39.049818</td>\n",
       "      <td>39.345402</td>\n",
       "      <td>SHORT</td>\n",
       "      <td>-0.295584</td>\n",
       "      <td>1</td>\n",
       "      <td>-0.591065</td>\n",
       "    </tr>\n",
       "    <tr>\n",
       "      <th>2</th>\n",
       "      <td>39.049818</td>\n",
       "      <td>39.345402</td>\n",
       "      <td>SHORT</td>\n",
       "      <td>-0.295584</td>\n",
       "      <td>2</td>\n",
       "      <td>-0.886649</td>\n",
       "    </tr>\n",
       "    <tr>\n",
       "      <th>3</th>\n",
       "      <td>39.049818</td>\n",
       "      <td>39.345501</td>\n",
       "      <td>SHORT</td>\n",
       "      <td>-0.295683</td>\n",
       "      <td>3</td>\n",
       "      <td>-1.182332</td>\n",
       "    </tr>\n",
       "    <tr>\n",
       "      <th>4</th>\n",
       "      <td>39.049818</td>\n",
       "      <td>39.345501</td>\n",
       "      <td>SHORT</td>\n",
       "      <td>-0.295683</td>\n",
       "      <td>4</td>\n",
       "      <td>-1.478016</td>\n",
       "    </tr>\n",
       "  </tbody>\n",
       "</table>\n",
       "</div>"
      ],
      "text/plain": [
       "   EntryPrice  ExitPrice TradeType       PnL  Timestamp  CumulativePnL\n",
       "0   39.049818  39.345299     SHORT -0.295481          0      -0.295481\n",
       "1   39.049818  39.345402     SHORT -0.295584          1      -0.591065\n",
       "2   39.049818  39.345402     SHORT -0.295584          2      -0.886649\n",
       "3   39.049818  39.345501     SHORT -0.295683          3      -1.182332\n",
       "4   39.049818  39.345501     SHORT -0.295683          4      -1.478016"
      ]
     },
     "execution_count": 3,
     "metadata": {},
     "output_type": "execute_result"
    }
   ],
   "source": [
    "# Calculate cumulative profit/loss\n",
    "data[\"CumulativePnL\"] = data[\"PnL\"].cumsum()\n",
    "data.head()"
   ]
  },
  {
   "cell_type": "markdown",
   "id": "300f35a2",
   "metadata": {},
   "source": [
    "# Generate Visualization\n",
    "Use matplotlib to plot cumulative profit/loss over time."
   ]
  },
  {
   "cell_type": "code",
   "execution_count": 4,
   "id": "307befd6",
   "metadata": {},
   "outputs": [
    {
     "data": {
      "image/png": "[encoded data removed]",
      "text/plain": [
       "<Figure size 1000x600 with 1 Axes>"
      ]
     },
     "metadata": {},
     "output_type": "display_data"
    }
   ],
   "source": [
    "# Plot cumulative profit/loss\n",
    "plt.figure(figsize=(10, 6))\n",
    "plt.plot(data[\"Timestamp\"], data[\"CumulativePnL\"], label=\"Cumulative PnL\", color=\"blue\")\n",
    "plt.title(\"Cumulative Profit and Loss Over Time\")\n",
    "plt.xlabel(\"Timestamp\")\n",
    "plt.ylabel(\"Cumulative PnL\")\n",
    "plt.legend()\n",
    "plt.grid()\n",
    "plt.show()"
   ]
  },
  {
   "cell_type": "code",
   "execution_count": null,
   "id": "bd18d382",
   "metadata": {},
   "outputs": [],
   "source": [
    "dff = pd.read_csv(filename)"
   ]
  }
 ],
 "metadata": {
  "kernelspec": {
   "display_name": "Python 3",
   "language": "python",
   "name": "python3"
  },
  "language_info": {
   "codemirror_mode": {
    "name": "ipython",
    "version": 3
   },
   "file_extension": ".py",
   "mimetype": "text/x-python",
   "name": "python",
   "nbconvert_exporter": "python",
   "pygments_lexer": "ipython3",
   "version": "3.12.1"
  }
 },
 "nbformat": 4,
 "nbformat_minor": 5
}
